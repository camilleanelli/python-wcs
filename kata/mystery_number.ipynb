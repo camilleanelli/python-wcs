{
 "cells": [
  {
   "cell_type": "markdown",
   "metadata": {},
   "source": [
    "## Objectif\n",
    "Créer un programme qui permet à un utilisateur de deviner un nombre mystère tiré aléatoirement par l’ordinateur (entre 0 et 100). L’objectif est de deviner le nombre en un minimum d’essais.\n",
    "\n",
    "1. Rédaction de l’algorithme :\n",
    "- Avant de coder, rédigez l’algorithme détaillé en utilisant des phrases ou des pseudocodes.\n",
    "- L’algorithme doit inclure :\n",
    "- La génération du nombre mystère.\n",
    "- Une boucle qui demande à l’utilisateur de deviner le nombre.\n",
    "- Les conditions pour vérifier si le nombre est trop haut ou trop bas.\n",
    "- La sortie de la boucle lorsque le nombre est trouvé et l’affichage du nombre total d’essais."
   ]
  },
  {
   "cell_type": "code",
   "execution_count": 3,
   "metadata": {},
   "outputs": [
    {
     "name": "stdout",
     "output_type": "stream",
     "text": [
      "The number is too low\n",
      "The number is too low\n",
      "The number is too low\n",
      "The number is too low\n",
      "The number is too hight\n",
      "The number is too hight\n",
      "The number is too hight\n",
      "The number is too hight\n",
      "The number is too hight\n",
      "The number is too low\n",
      "The number is too low\n",
      "Great! , you tried  11  times to find the number and your score is:  89\n"
     ]
    }
   ],
   "source": [
    "import random\n",
    "\n",
    "nbr1 = int(input(\"Choose the start number of the range: \"))\n",
    "nbr2 = int(input(\"Choose the end number of the range: \"))\n",
    "\n",
    "mysterious_nbr = random.randint(nbr1, nbr2)\n",
    "try_counter = 0\n",
    "score = 100\n",
    "limit_try = 20\n",
    "\n",
    "while True:\n",
    "  response = int(input(\"Guess what is the mysterious number: \"))\n",
    "  if response > mysterious_nbr:\n",
    "    print(\"The number is too hight\")\n",
    "    try_counter += 1\n",
    "    score -= 1\n",
    "    limit_try -= 1\n",
    "  elif response < mysterious_nbr:\n",
    "    print(\"The number is too low\")\n",
    "    try_counter += 1\n",
    "    score -= 1\n",
    "  elif limit_try == 0:\n",
    "    print(\"You lost your chances to win\")\n",
    "    break\n",
    "  else:\n",
    "    print(f\"Great! , you tried \", try_counter, \" times to find the number and your score is: \", score)\n",
    "    break\n",
    "\n"
   ]
  },
  {
   "cell_type": "markdown",
   "metadata": {},
   "source": [
    "- stock and generate a random number inside a variable\n",
    "- create a variable counter for the number of try\n",
    "- create a loop while True\n",
    "- ask the user for a number with an input and stock it inside a variable\n",
    "- if the number is > random number , print a phrase\n",
    "- update the counter\n",
    "- if the number is < random number, print a phrase\n",
    "- update the counter\n",
    "- if the number is correct: print the counter and break the loop\n"
   ]
  }
 ],
 "metadata": {
  "kernelspec": {
   "display_name": "base",
   "language": "python",
   "name": "python3"
  },
  "language_info": {
   "codemirror_mode": {
    "name": "ipython",
    "version": 3
   },
   "file_extension": ".py",
   "mimetype": "text/x-python",
   "name": "python",
   "nbconvert_exporter": "python",
   "pygments_lexer": "ipython3",
   "version": "3.12.4"
  }
 },
 "nbformat": 4,
 "nbformat_minor": 2
}
